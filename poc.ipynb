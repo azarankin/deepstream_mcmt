{
 "cells": [
  {
   "cell_type": "markdown",
   "id": "52b19384",
   "metadata": {},
   "source": [
    "#sample brocker with\n",
    "\n",
    "\n",
    "\"\"\" mosquitto_sub -h 127.0.0.1 -p 1883 -t test-topic -v \"\"\"\n",
    "\n",
    "test\n",
    "\"\"\"mosquitto_pub -h 127.0.0.1 -t test-topic -m '{\"ping\":\"pong\"}'\"\"\""
   ]
  },
  {
   "cell_type": "code",
   "execution_count": null,
   "id": "5cc61163",
   "metadata": {},
   "outputs": [],
   "source": [
    "#python3 -m pip install --user \"paho-mqtt>=2.0\""
   ]
  },
  {
   "cell_type": "code",
   "execution_count": null,
   "id": "10d55c91",
   "metadata": {},
   "outputs": [],
   "source": []
  },
  {
   "cell_type": "code",
   "execution_count": 1,
   "id": "58f871a6",
   "metadata": {},
   "outputs": [
    {
     "name": "stdout",
     "output_type": "stream",
     "text": [
      "[MQTT] Connecting to 127.0.0.1:1883 … (topics=['test-topic'])\n",
      "[MQTT] on_connect: Connected\n",
      "[MQTT] Subscribed to 'test-topic' (qos=0)\n",
      "2025-08-27T15:25:21.340Z | test-topic | sensor-0 | id=18446744073709551615 | bbox=[344.556,701.063,454.392,987.954] | cls=Person | conf=0.888\n",
      "2025-08-27T15:25:22.067Z | test-topic | sensor-0 | id=18446744073709551615 | bbox=[310.148,729.231,456.099,973.072] | cls=Person | conf=0.437\n",
      "\n",
      "[MQTT] Stopped by user.\n"
     ]
    }
   ],
   "source": [
    "#!/usr/bin/env python3\n",
    "from config import BrokerConfig as cfg\n",
    "from utils_brocker_mqtt import MqttSubscriber\n",
    "\n",
    "\n",
    "client = MqttSubscriber(cfg()).connect()\n",
    "try:\n",
    "    client.start_forever()\n",
    "except KeyboardInterrupt:\n",
    "    print(\"\\n[MQTT] Stopped by user.\")\n",
    "finally:\n",
    "    client.stop()"
   ]
  },
  {
   "cell_type": "markdown",
   "id": "e3702856",
   "metadata": {},
   "source": []
  },
  {
   "cell_type": "code",
   "execution_count": null,
   "id": "32655b6c",
   "metadata": {},
   "outputs": [],
   "source": []
  },
  {
   "cell_type": "code",
   "execution_count": null,
   "id": "68c53f51",
   "metadata": {},
   "outputs": [],
   "source": [
    "#"
   ]
  },
  {
   "cell_type": "code",
   "execution_count": null,
   "id": "5bd8bec4",
   "metadata": {},
   "outputs": [],
   "source": []
  }
 ],
 "metadata": {
  "kernelspec": {
   "display_name": "Python 3",
   "language": "python",
   "name": "python3"
  },
  "language_info": {
   "codemirror_mode": {
    "name": "ipython",
    "version": 3
   },
   "file_extension": ".py",
   "mimetype": "text/x-python",
   "name": "python",
   "nbconvert_exporter": "python",
   "pygments_lexer": "ipython3",
   "version": "3.10.12"
  }
 },
 "nbformat": 4,
 "nbformat_minor": 5
}
